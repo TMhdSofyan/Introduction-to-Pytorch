{
 "cells": [
  {
   "cell_type": "markdown",
   "id": "5d02ee36",
   "metadata": {},
   "source": [
    "# Class"
   ]
  },
  {
   "cell_type": "markdown",
   "id": "6a14bf0d",
   "metadata": {},
   "source": [
    "## 1. Simple class"
   ]
  },
  {
   "cell_type": "code",
   "execution_count": 1,
   "id": "ef417b5f",
   "metadata": {},
   "outputs": [],
   "source": [
    "class Human:\n",
    "    def __init__(self):\n",
    "        self.hair = \"putih\"\n",
    "        self.weight = 170\n",
    "        self.height = 60"
   ]
  },
  {
   "cell_type": "code",
   "execution_count": 2,
   "id": "cb7c0993",
   "metadata": {},
   "outputs": [],
   "source": [
    "Tengku = Human()"
   ]
  },
  {
   "cell_type": "code",
   "execution_count": 3,
   "id": "7e2e2bd9",
   "metadata": {},
   "outputs": [
    {
     "data": {
      "text/plain": [
       "'putih'"
      ]
     },
     "execution_count": 3,
     "metadata": {},
     "output_type": "execute_result"
    }
   ],
   "source": [
    "Tengku.hair"
   ]
  },
  {
   "cell_type": "code",
   "execution_count": 4,
   "id": "f2f07e8a",
   "metadata": {},
   "outputs": [
    {
     "data": {
      "text/plain": [
       "60"
      ]
     },
     "execution_count": 4,
     "metadata": {},
     "output_type": "execute_result"
    }
   ],
   "source": [
    "Tengku.height"
   ]
  },
  {
   "cell_type": "code",
   "execution_count": 5,
   "id": "9b97ccaa",
   "metadata": {},
   "outputs": [
    {
     "data": {
      "text/plain": [
       "170"
      ]
     },
     "execution_count": 5,
     "metadata": {},
     "output_type": "execute_result"
    }
   ],
   "source": [
    "Tengku.weight"
   ]
  },
  {
   "cell_type": "markdown",
   "id": "89b0564a",
   "metadata": {},
   "source": [
    "## 2. Class (continuity)\n",
    "###### This session we will learn how to input value for parameter (hair, weight, height) by our own"
   ]
  },
  {
   "cell_type": "code",
   "execution_count": 6,
   "id": "39b2bed4",
   "metadata": {},
   "outputs": [],
   "source": [
    "class Male:\n",
    "    def __init__(self, hair, weight, height):\n",
    "        self.hair = hair\n",
    "        self.weight = weight\n",
    "        self.height = height"
   ]
  },
  {
   "cell_type": "code",
   "execution_count": 7,
   "id": "cacb483d",
   "metadata": {},
   "outputs": [],
   "source": [
    "Tengku = Male('Black', 72, 168)"
   ]
  },
  {
   "cell_type": "code",
   "execution_count": 8,
   "id": "cf0d75c6",
   "metadata": {},
   "outputs": [
    {
     "data": {
      "text/plain": [
       "'Black'"
      ]
     },
     "execution_count": 8,
     "metadata": {},
     "output_type": "execute_result"
    }
   ],
   "source": [
    "Tengku.hair"
   ]
  },
  {
   "cell_type": "code",
   "execution_count": 9,
   "id": "2aa09291",
   "metadata": {},
   "outputs": [
    {
     "data": {
      "text/plain": [
       "168"
      ]
     },
     "execution_count": 9,
     "metadata": {},
     "output_type": "execute_result"
    }
   ],
   "source": [
    "Tengku.height"
   ]
  },
  {
   "cell_type": "code",
   "execution_count": 10,
   "id": "0b75b215",
   "metadata": {},
   "outputs": [
    {
     "data": {
      "text/plain": [
       "72"
      ]
     },
     "execution_count": 10,
     "metadata": {},
     "output_type": "execute_result"
    }
   ],
   "source": [
    "Tengku.weight"
   ]
  },
  {
   "cell_type": "markdown",
   "id": "6095e35b",
   "metadata": {},
   "source": [
    "## Method"
   ]
  },
  {
   "cell_type": "code",
   "execution_count": 11,
   "id": "80711d0f",
   "metadata": {},
   "outputs": [],
   "source": [
    "# class\n",
    "class Male:\n",
    "    def __init__(self, hair, weight, height):\n",
    "        self.hair = hair\n",
    "        self.weight = weight\n",
    "        self.height = height\n",
    "        \n",
    "# method\n",
    "    def coloring_hair(self, color):\n",
    "        self.hair = color\n",
    "        print(f'hair color becomes {color}')\n",
    "        \n",
    "    def BMI(self):\n",
    "        return self.weight / self.height ** 2"
   ]
  },
  {
   "cell_type": "code",
   "execution_count": 12,
   "id": "c2f6c459",
   "metadata": {},
   "outputs": [],
   "source": [
    "Tengku = Male('Black', 72, 168)"
   ]
  },
  {
   "cell_type": "code",
   "execution_count": 13,
   "id": "bb328579",
   "metadata": {},
   "outputs": [
    {
     "data": {
      "text/plain": [
       "'Black'"
      ]
     },
     "execution_count": 13,
     "metadata": {},
     "output_type": "execute_result"
    }
   ],
   "source": [
    "Tengku.hair"
   ]
  },
  {
   "cell_type": "code",
   "execution_count": 14,
   "id": "2ced3457",
   "metadata": {},
   "outputs": [
    {
     "data": {
      "text/plain": [
       "168"
      ]
     },
     "execution_count": 14,
     "metadata": {},
     "output_type": "execute_result"
    }
   ],
   "source": [
    "Tengku.height"
   ]
  },
  {
   "cell_type": "code",
   "execution_count": 15,
   "id": "d27e2664",
   "metadata": {},
   "outputs": [
    {
     "data": {
      "text/plain": [
       "72"
      ]
     },
     "execution_count": 15,
     "metadata": {},
     "output_type": "execute_result"
    }
   ],
   "source": [
    "Tengku.weight"
   ]
  },
  {
   "cell_type": "code",
   "execution_count": 16,
   "id": "b1a8683e",
   "metadata": {},
   "outputs": [
    {
     "name": "stdout",
     "output_type": "stream",
     "text": [
      "hair color becomes yellow\n"
     ]
    }
   ],
   "source": [
    "Tengku.coloring_hair('yellow')"
   ]
  },
  {
   "cell_type": "code",
   "execution_count": 17,
   "id": "2ccbfc09",
   "metadata": {},
   "outputs": [
    {
     "data": {
      "text/plain": [
       "'yellow'"
      ]
     },
     "execution_count": 17,
     "metadata": {},
     "output_type": "execute_result"
    }
   ],
   "source": [
    "Tengku.hair"
   ]
  },
  {
   "cell_type": "code",
   "execution_count": 18,
   "id": "d03df72d",
   "metadata": {},
   "outputs": [
    {
     "data": {
      "text/plain": [
       "0.002551020408163265"
      ]
     },
     "execution_count": 18,
     "metadata": {},
     "output_type": "execute_result"
    }
   ],
   "source": [
    "Tengku.BMI()"
   ]
  },
  {
   "cell_type": "markdown",
   "id": "cda0a7d8",
   "metadata": {},
   "source": [
    "# Inheritance"
   ]
  },
  {
   "cell_type": "code",
   "execution_count": 19,
   "id": "7434bac1",
   "metadata": {},
   "outputs": [],
   "source": [
    "class Student(Male):\n",
    "    def __init__(self, hair, weight, height, Univ):\n",
    "        super().__init__(hair, weight, height)\n",
    "        self.university = Univ\n",
    "        \n",
    "    def move_Univ(self, New_univ):\n",
    "        self.university = New_univ"
   ]
  },
  {
   "cell_type": "code",
   "execution_count": 20,
   "id": "9ac0e5a3",
   "metadata": {},
   "outputs": [],
   "source": [
    "Tengku = Student('Blue', 72, 170, 'Universitas Indonesia')"
   ]
  },
  {
   "cell_type": "code",
   "execution_count": 21,
   "id": "28ee5b03",
   "metadata": {},
   "outputs": [
    {
     "data": {
      "text/plain": [
       "'Universitas Indonesia'"
      ]
     },
     "execution_count": 21,
     "metadata": {},
     "output_type": "execute_result"
    }
   ],
   "source": [
    "Tengku.university"
   ]
  },
  {
   "cell_type": "code",
   "execution_count": 22,
   "id": "45b59dd1",
   "metadata": {},
   "outputs": [],
   "source": [
    "Tengku.move_Univ('Harvard')"
   ]
  },
  {
   "cell_type": "code",
   "execution_count": 23,
   "id": "94836449",
   "metadata": {},
   "outputs": [
    {
     "data": {
      "text/plain": [
       "'Harvard'"
      ]
     },
     "execution_count": 23,
     "metadata": {},
     "output_type": "execute_result"
    }
   ],
   "source": [
    "Tengku.university"
   ]
  },
  {
   "cell_type": "markdown",
   "id": "29003613",
   "metadata": {},
   "source": [
    "# Pytorch NN Module"
   ]
  },
  {
   "cell_type": "code",
   "execution_count": 24,
   "id": "e820be96",
   "metadata": {},
   "outputs": [],
   "source": [
    "import torch \n",
    "from torch import nn"
   ]
  },
  {
   "cell_type": "code",
   "execution_count": 32,
   "id": "cae7a6bb",
   "metadata": {},
   "outputs": [],
   "source": [
    "??nn.Linear"
   ]
  },
  {
   "cell_type": "code",
   "execution_count": 27,
   "id": "c016d18a",
   "metadata": {},
   "outputs": [],
   "source": [
    "import jcopdl"
   ]
  },
  {
   "cell_type": "code",
   "execution_count": 29,
   "id": "ab4507de",
   "metadata": {},
   "outputs": [],
   "source": [
    "import jcopml"
   ]
  },
  {
   "cell_type": "code",
   "execution_count": 34,
   "id": "2c82c495",
   "metadata": {},
   "outputs": [],
   "source": [
    "from jcopml import feature_importance"
   ]
  },
  {
   "cell_type": "code",
   "execution_count": 37,
   "id": "633bfff1",
   "metadata": {},
   "outputs": [],
   "source": [
    "??nn.Module"
   ]
  },
  {
   "cell_type": "code",
   "execution_count": null,
   "id": "3b391841",
   "metadata": {},
   "outputs": [],
   "source": []
  }
 ],
 "metadata": {
  "kernelspec": {
   "display_name": "Python [conda env:env_jcopdl]",
   "language": "python",
   "name": "conda-env-env_jcopdl-py"
  },
  "language_info": {
   "codemirror_mode": {
    "name": "ipython",
    "version": 3
   },
   "file_extension": ".py",
   "mimetype": "text/x-python",
   "name": "python",
   "nbconvert_exporter": "python",
   "pygments_lexer": "ipython3",
   "version": "3.7.12"
  }
 },
 "nbformat": 4,
 "nbformat_minor": 5
}
